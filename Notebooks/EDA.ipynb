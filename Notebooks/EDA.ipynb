{
 "cells": [
  {
   "cell_type": "code",
   "execution_count": 1,
   "metadata": {},
   "outputs": [],
   "source": [
    "import pandas as pd\n",
    "import numpy as np\n",
    "import matplotlib.pyplot as plt"
   ]
  },
  {
   "cell_type": "code",
   "execution_count": 5,
   "metadata": {},
   "outputs": [],
   "source": [
    "Rates=pd.read_csv('C:\\\\Users\\\\fhrt8\\\\Desktop\\\\DATA\\\\Epsilon Enterprises\\\\Data\\\\Courier Company - Rates.csv')\n",
    "Invoice=pd.read_csv('C:\\\\Users\\\\fhrt8\\\\Desktop\\\\DATA\\\\Epsilon Enterprises\\\\Data\\\\Invoice.csv')\n",
    "Order_Report=pd.read_csv('C:\\\\Users\\\\fhrt8\\\\Desktop\\\\DATA\\\\Epsilon Enterprises\\\\Data\\\\Order Report.csv')\n",
    "Pincodes=pd.read_csv('C:\\\\Users\\\\fhrt8\\\\Desktop\\\\DATA\\\\Epsilon Enterprises\\\\Data\\\\pincodes.csv')\n",
    "sku=pd.read_csv('C:\\\\Users\\\\fhrt8\\\\Desktop\\\\DATA\\\\Epsilon Enterprises\\\\Data\\\\SKU Master.csv')"
   ]
  },
  {
   "cell_type": "code",
   "execution_count": 7,
   "metadata": {},
   "outputs": [
    {
     "data": {
      "text/html": [
       "<div>\n",
       "<style scoped>\n",
       "    .dataframe tbody tr th:only-of-type {\n",
       "        vertical-align: middle;\n",
       "    }\n",
       "\n",
       "    .dataframe tbody tr th {\n",
       "        vertical-align: top;\n",
       "    }\n",
       "\n",
       "    .dataframe thead th {\n",
       "        text-align: right;\n",
       "    }\n",
       "</style>\n",
       "<table border=\"1\" class=\"dataframe\">\n",
       "  <thead>\n",
       "    <tr style=\"text-align: right;\">\n",
       "      <th></th>\n",
       "      <th>AWB Code</th>\n",
       "      <th>Order ID</th>\n",
       "      <th>Charged Weight</th>\n",
       "      <th>Warehouse Pincode</th>\n",
       "      <th>Customer Pincode</th>\n",
       "      <th>Zone</th>\n",
       "      <th>Type of Shipment</th>\n",
       "      <th>Billing Amount (Rs.)</th>\n",
       "    </tr>\n",
       "  </thead>\n",
       "  <tbody>\n",
       "    <tr>\n",
       "      <th>0</th>\n",
       "      <td>1091117222124</td>\n",
       "      <td>2001806232</td>\n",
       "      <td>1.30</td>\n",
       "      <td>121003</td>\n",
       "      <td>507101</td>\n",
       "      <td>d</td>\n",
       "      <td>Forward charges</td>\n",
       "      <td>135.0</td>\n",
       "    </tr>\n",
       "    <tr>\n",
       "      <th>1</th>\n",
       "      <td>1091117222194</td>\n",
       "      <td>2001806273</td>\n",
       "      <td>1.00</td>\n",
       "      <td>121003</td>\n",
       "      <td>486886</td>\n",
       "      <td>d</td>\n",
       "      <td>Forward charges</td>\n",
       "      <td>90.2</td>\n",
       "    </tr>\n",
       "    <tr>\n",
       "      <th>2</th>\n",
       "      <td>1091117222931</td>\n",
       "      <td>2001806408</td>\n",
       "      <td>2.50</td>\n",
       "      <td>121003</td>\n",
       "      <td>532484</td>\n",
       "      <td>d</td>\n",
       "      <td>Forward charges</td>\n",
       "      <td>224.6</td>\n",
       "    </tr>\n",
       "    <tr>\n",
       "      <th>3</th>\n",
       "      <td>1091117223244</td>\n",
       "      <td>2001806458</td>\n",
       "      <td>1.00</td>\n",
       "      <td>121003</td>\n",
       "      <td>143001</td>\n",
       "      <td>b</td>\n",
       "      <td>Forward charges</td>\n",
       "      <td>61.3</td>\n",
       "    </tr>\n",
       "    <tr>\n",
       "      <th>4</th>\n",
       "      <td>1091117229345</td>\n",
       "      <td>2001807012</td>\n",
       "      <td>0.15</td>\n",
       "      <td>121003</td>\n",
       "      <td>515591</td>\n",
       "      <td>d</td>\n",
       "      <td>Forward charges</td>\n",
       "      <td>45.4</td>\n",
       "    </tr>\n",
       "  </tbody>\n",
       "</table>\n",
       "</div>"
      ],
      "text/plain": [
       "        AWB Code    Order ID  Charged Weight  Warehouse Pincode  \\\n",
       "0  1091117222124  2001806232            1.30             121003   \n",
       "1  1091117222194  2001806273            1.00             121003   \n",
       "2  1091117222931  2001806408            2.50             121003   \n",
       "3  1091117223244  2001806458            1.00             121003   \n",
       "4  1091117229345  2001807012            0.15             121003   \n",
       "\n",
       "   Customer Pincode Zone Type of Shipment  Billing Amount (Rs.)  \n",
       "0            507101    d  Forward charges                 135.0  \n",
       "1            486886    d  Forward charges                  90.2  \n",
       "2            532484    d  Forward charges                 224.6  \n",
       "3            143001    b  Forward charges                  61.3  \n",
       "4            515591    d  Forward charges                  45.4  "
      ]
     },
     "execution_count": 7,
     "metadata": {},
     "output_type": "execute_result"
    }
   ],
   "source": [
    "Invoice.head()"
   ]
  },
  {
   "cell_type": "code",
   "execution_count": 24,
   "metadata": {},
   "outputs": [
    {
     "name": "stdout",
     "output_type": "stream",
     "text": [
      "   fwd_a_fixed  fwd_a_additional  fwd_b_fixed  fwd_b_additional  fwd_c_fixed  \\\n",
      "0         29.5              23.6           33              28.3         40.1   \n",
      "\n",
      "   fwd_c_additional  fwd_d_fixed  fwd_d_additional  fwd_e_fixed  \\\n",
      "0              38.9         45.4              44.8         56.6   \n",
      "\n",
      "   fwd_e_additional  rto_a_fixed  rto_a_additional  rto_b_fixed  \\\n",
      "0              55.5         13.6              23.6         20.5   \n",
      "\n",
      "   rto_b_additional  rto_c_fixed  rto_c_additional  rto_d_fixed  \\\n",
      "0              28.3         31.9              38.9         41.3   \n",
      "\n",
      "   rto_d_additional  rto_e_fixed  rto_e_additional  \n",
      "0              44.8         50.7              55.5  \n",
      "\n",
      "        AWB Code    Order ID  Charged Weight  Warehouse Pincode  \\\n",
      "0  1091117222124  2001806232            1.30             121003   \n",
      "1  1091117222194  2001806273            1.00             121003   \n",
      "2  1091117222931  2001806408            2.50             121003   \n",
      "3  1091117223244  2001806458            1.00             121003   \n",
      "4  1091117229345  2001807012            0.15             121003   \n",
      "\n",
      "   Customer Pincode Zone Type of Shipment  Billing Amount (Rs.)  \n",
      "0            507101    d  Forward charges                 135.0  \n",
      "1            486886    d  Forward charges                  90.2  \n",
      "2            532484    d  Forward charges                 224.6  \n",
      "3            143001    b  Forward charges                  61.3  \n",
      "4            515591    d  Forward charges                  45.4  \n",
      "\n",
      "   ExternOrderNo            SKU  Order Qty  Unnamed: 3  Unnamed: 4\n",
      "0     2001827036  8904223818706        1.0         NaN         NaN\n",
      "1     2001827036  8904223819093        1.0         NaN         NaN\n",
      "2     2001827036  8904223819109        1.0         NaN         NaN\n",
      "3     2001827036  8904223818430        1.0         NaN         NaN\n",
      "4     2001827036  8904223819277        1.0         NaN         NaN\n",
      "\n",
      "   Warehouse Pincode  Customer Pincode Zone  Unnamed: 3  Unnamed: 4\n",
      "0             121003            507101    d         NaN         NaN\n",
      "1             121003            486886    d         NaN         NaN\n",
      "2             121003            532484    d         NaN         NaN\n",
      "3             121003            143001    b         NaN         NaN\n",
      "4             121003            515591    d         NaN         NaN\n",
      "\n",
      "             SKU  Weight (g)  Unnamed: 2  Unnamed: 3  Unnamed: 4\n",
      "0  8904223815682         210         NaN         NaN         NaN\n",
      "1  8904223815859         165         NaN         NaN         NaN\n",
      "2  8904223815866         113         NaN         NaN         NaN\n",
      "3  8904223815873          65         NaN         NaN         NaN\n",
      "4  8904223816214         120         NaN         NaN         NaN\n",
      "\n"
     ]
    }
   ],
   "source": [
    "#list_table_names=['Rates','Invoice','Order_Report','Pincodes','sku']\n",
    "list_table=[Rates,Invoice,Order_Report,Pincodes,sku]\n",
    "for i in list_table:\n",
    "    print(f\"{i.head()}\\n\")"
   ]
  },
  {
   "cell_type": "code",
   "execution_count": 25,
   "metadata": {},
   "outputs": [
    {
     "name": "stdout",
     "output_type": "stream",
     "text": [
      "\n",
      "Missing values in Website Order Report:\n",
      "ExternOrderNo      0\n",
      "SKU                0\n",
      "Order Qty          0\n",
      "Unnamed: 3       400\n",
      "Unnamed: 4       400\n",
      "dtype: int64\n",
      "\n",
      "Missing values in SKU Master:\n",
      "SKU            0\n",
      "Weight (g)     0\n",
      "Unnamed: 2    66\n",
      "Unnamed: 3    66\n",
      "Unnamed: 4    66\n",
      "dtype: int64\n",
      "\n",
      "Missing values in Pincode Mapping:\n",
      "Warehouse Pincode      0\n",
      "Customer Pincode       0\n",
      "Zone                   0\n",
      "Unnamed: 3           124\n",
      "Unnamed: 4           124\n",
      "dtype: int64\n",
      "\n",
      "Missing values in Courier Invoice:\n",
      "AWB Code                0\n",
      "Order ID                0\n",
      "Charged Weight          0\n",
      "Warehouse Pincode       0\n",
      "Customer Pincode        0\n",
      "Zone                    0\n",
      "Type of Shipment        0\n",
      "Billing Amount (Rs.)    0\n",
      "dtype: int64\n",
      "\n",
      "Missing values in courier company rates:\n",
      "fwd_a_fixed         0\n",
      "fwd_a_additional    0\n",
      "fwd_b_fixed         0\n",
      "fwd_b_additional    0\n",
      "fwd_c_fixed         0\n",
      "fwd_c_additional    0\n",
      "fwd_d_fixed         0\n",
      "fwd_d_additional    0\n",
      "fwd_e_fixed         0\n",
      "fwd_e_additional    0\n",
      "rto_a_fixed         0\n",
      "rto_a_additional    0\n",
      "rto_b_fixed         0\n",
      "rto_b_additional    0\n",
      "rto_c_fixed         0\n",
      "rto_c_additional    0\n",
      "rto_d_fixed         0\n",
      "rto_d_additional    0\n",
      "rto_e_fixed         0\n",
      "rto_e_additional    0\n",
      "dtype: int64\n"
     ]
    }
   ],
   "source": [
    "# Check for missing values\n",
    "print(\"\\nMissing values in Website Order Report:\")\n",
    "print(Order_Report.isnull().sum())\n",
    "print(\"\\nMissing values in SKU Master:\")\n",
    "print(sku.isnull().sum())\n",
    "print(\"\\nMissing values in Pincode Mapping:\")\n",
    "print(Pincodes.isnull().sum())\n",
    "print(\"\\nMissing values in Courier Invoice:\")\n",
    "print(Invoice.isnull().sum())\n",
    "print(\"\\nMissing values in courier company rates:\")\n",
    "print(Rates.isnull().sum())"
   ]
  },
  {
   "cell_type": "code",
   "execution_count": 27,
   "metadata": {},
   "outputs": [],
   "source": [
    "# Remove unnamed columns from the Website Order Report DataFrame\n",
    "Order_Report = Order_Report.drop(columns=['Unnamed: 3', 'Unnamed: 4'])\n",
    "\n",
    "# Remove unnamed columns from the SKU Master DataFrame\n",
    "sku = sku.drop(columns=['Unnamed: 2', 'Unnamed: 3', 'Unnamed: 4'])\n",
    "\n",
    "# Remove unnamed columns from the Pincode Mapping DataFrame\n",
    "Pincodes = Pincodes.drop(columns=['Unnamed: 3', 'Unnamed: 4'])"
   ]
  },
  {
   "cell_type": "code",
   "execution_count": 33,
   "metadata": {},
   "outputs": [
    {
     "data": {
      "text/html": [
       "<div>\n",
       "<style scoped>\n",
       "    .dataframe tbody tr th:only-of-type {\n",
       "        vertical-align: middle;\n",
       "    }\n",
       "\n",
       "    .dataframe tbody tr th {\n",
       "        vertical-align: top;\n",
       "    }\n",
       "\n",
       "    .dataframe thead th {\n",
       "        text-align: right;\n",
       "    }\n",
       "</style>\n",
       "<table border=\"1\" class=\"dataframe\">\n",
       "  <thead>\n",
       "    <tr style=\"text-align: right;\">\n",
       "      <th></th>\n",
       "      <th>ExternOrderNo</th>\n",
       "      <th>SKU</th>\n",
       "      <th>Order Qty</th>\n",
       "      <th>Weight (g)</th>\n",
       "    </tr>\n",
       "  </thead>\n",
       "  <tbody>\n",
       "    <tr>\n",
       "      <th>0</th>\n",
       "      <td>2001827036</td>\n",
       "      <td>8904223818706</td>\n",
       "      <td>1.0</td>\n",
       "      <td>127</td>\n",
       "    </tr>\n",
       "    <tr>\n",
       "      <th>1</th>\n",
       "      <td>2001821995</td>\n",
       "      <td>8904223818706</td>\n",
       "      <td>1.0</td>\n",
       "      <td>127</td>\n",
       "    </tr>\n",
       "    <tr>\n",
       "      <th>2</th>\n",
       "      <td>2001819252</td>\n",
       "      <td>8904223818706</td>\n",
       "      <td>1.0</td>\n",
       "      <td>127</td>\n",
       "    </tr>\n",
       "    <tr>\n",
       "      <th>3</th>\n",
       "      <td>2001816996</td>\n",
       "      <td>8904223818706</td>\n",
       "      <td>1.0</td>\n",
       "      <td>127</td>\n",
       "    </tr>\n",
       "    <tr>\n",
       "      <th>4</th>\n",
       "      <td>2001814580</td>\n",
       "      <td>8904223818706</td>\n",
       "      <td>1.0</td>\n",
       "      <td>127</td>\n",
       "    </tr>\n",
       "  </tbody>\n",
       "</table>\n",
       "</div>"
      ],
      "text/plain": [
       "   ExternOrderNo            SKU  Order Qty  Weight (g)\n",
       "0     2001827036  8904223818706        1.0         127\n",
       "1     2001821995  8904223818706        1.0         127\n",
       "2     2001819252  8904223818706        1.0         127\n",
       "3     2001816996  8904223818706        1.0         127\n",
       "4     2001814580  8904223818706        1.0         127"
      ]
     },
     "execution_count": 33,
     "metadata": {},
     "output_type": "execute_result"
    }
   ],
   "source": [
    "# Merge the Order Report and SKU Master based on SKU\n",
    "merged_data = pd.merge(Order_Report, sku, on='SKU')\n",
    "merged_data.head()"
   ]
  },
  {
   "cell_type": "code",
   "execution_count": 38,
   "metadata": {},
   "outputs": [
    {
     "data": {
      "text/html": [
       "<div>\n",
       "<style scoped>\n",
       "    .dataframe tbody tr th:only-of-type {\n",
       "        vertical-align: middle;\n",
       "    }\n",
       "\n",
       "    .dataframe tbody tr th {\n",
       "        vertical-align: top;\n",
       "    }\n",
       "\n",
       "    .dataframe thead th {\n",
       "        text-align: right;\n",
       "    }\n",
       "</style>\n",
       "<table border=\"1\" class=\"dataframe\">\n",
       "  <thead>\n",
       "    <tr style=\"text-align: right;\">\n",
       "      <th></th>\n",
       "      <th>Order ID</th>\n",
       "      <th>SKU</th>\n",
       "      <th>Order Qty</th>\n",
       "      <th>Weight (g)</th>\n",
       "    </tr>\n",
       "  </thead>\n",
       "  <tbody>\n",
       "    <tr>\n",
       "      <th>0</th>\n",
       "      <td>2001827036</td>\n",
       "      <td>8904223818706</td>\n",
       "      <td>1.0</td>\n",
       "      <td>127</td>\n",
       "    </tr>\n",
       "    <tr>\n",
       "      <th>1</th>\n",
       "      <td>2001821995</td>\n",
       "      <td>8904223818706</td>\n",
       "      <td>1.0</td>\n",
       "      <td>127</td>\n",
       "    </tr>\n",
       "    <tr>\n",
       "      <th>2</th>\n",
       "      <td>2001819252</td>\n",
       "      <td>8904223818706</td>\n",
       "      <td>1.0</td>\n",
       "      <td>127</td>\n",
       "    </tr>\n",
       "    <tr>\n",
       "      <th>3</th>\n",
       "      <td>2001816996</td>\n",
       "      <td>8904223818706</td>\n",
       "      <td>1.0</td>\n",
       "      <td>127</td>\n",
       "    </tr>\n",
       "    <tr>\n",
       "      <th>4</th>\n",
       "      <td>2001814580</td>\n",
       "      <td>8904223818706</td>\n",
       "      <td>1.0</td>\n",
       "      <td>127</td>\n",
       "    </tr>\n",
       "  </tbody>\n",
       "</table>\n",
       "</div>"
      ],
      "text/plain": [
       "     Order ID            SKU  Order Qty  Weight (g)\n",
       "0  2001827036  8904223818706        1.0         127\n",
       "1  2001821995  8904223818706        1.0         127\n",
       "2  2001819252  8904223818706        1.0         127\n",
       "3  2001816996  8904223818706        1.0         127\n",
       "4  2001814580  8904223818706        1.0         127"
      ]
     },
     "execution_count": 38,
     "metadata": {},
     "output_type": "execute_result"
    }
   ],
   "source": [
    "# Rename the \"ExternOrderNo\" column to \"Order ID\" in the merged_data DataFrame\n",
    "merged_data = merged_data.rename(columns={'ExternOrderNo': 'Order ID'})\n",
    "merged_data.head()"
   ]
  },
  {
   "cell_type": "code",
   "execution_count": 39,
   "metadata": {},
   "outputs": [
    {
     "name": "stdout",
     "output_type": "stream",
     "text": [
      "     Order ID  Customer Pincode Type of Shipment  Warehouse Pincode Zone\n",
      "0  2001806232            507101  Forward charges             121003    d\n",
      "1  2001806273            486886  Forward charges             121003    d\n",
      "2  2001806408            532484  Forward charges             121003    d\n",
      "3  2001806458            143001  Forward charges             121003    b\n",
      "4  2001807012            515591  Forward charges             121003    d\n"
     ]
    }
   ],
   "source": [
    "abc_courier = Pincodes.drop_duplicates(subset=['Customer Pincode'])\n",
    "courier_abc= Invoice[['Order ID', 'Customer Pincode','Type of Shipment']]\n",
    "pincodes= courier_abc.merge(abc_courier,on='Customer Pincode')\n",
    "print(pincodes.head())"
   ]
  },
  {
   "cell_type": "code",
   "execution_count": 40,
   "metadata": {},
   "outputs": [],
   "source": [
    "#Merging the pincodes with the main dataframe\n",
    "merged2 = merged_data.merge(pincodes, on='Order ID')"
   ]
  },
  {
   "cell_type": "code",
   "execution_count": 41,
   "metadata": {},
   "outputs": [],
   "source": [
    "#Calculating the weight in kg\n",
    "merged2['Weights (Kgs)'] = merged2['Weight (g)'] / 1000"
   ]
  },
  {
   "cell_type": "code",
   "execution_count": 42,
   "metadata": {},
   "outputs": [],
   "source": [
    "# Calculating the weight slabs\n",
    "def weight_slab(weight):\n",
    "    i = round(weight % 1, 1)\n",
    "    if i == 0.0:\n",
    "        return weight\n",
    "    elif i > 0.5:\n",
    "        return int(weight) + 1.0\n",
    "    else:\n",
    "        return int(weight) + 0.5"
   ]
  },
  {
   "cell_type": "code",
   "execution_count": 43,
   "metadata": {},
   "outputs": [],
   "source": [
    "# Applying the weight slab\n",
    "merged2['Weight Slab (KG)'] = merged2['Weights (Kgs)'].apply(weight_slab)\n",
    "Invoice['Weight Slab Charged by Courier Company']=(Invoice['Charged Weight']).apply(weight_slab)"
   ]
  },
  {
   "cell_type": "code",
   "execution_count": 44,
   "metadata": {},
   "outputs": [],
   "source": [
    "Invoice = Invoice.rename(columns={'Zone': 'Delivery Zone Charged by Courier Company'})\n",
    "merged2 = merged2.rename(columns={'Zone': 'Delivery Zone As Per ABC'})\n",
    "merged2 = merged2.rename(columns={'Weight Slab (KG)': 'Weight Slab As Per ABC'})"
   ]
  },
  {
   "cell_type": "code",
   "execution_count": 45,
   "metadata": {},
   "outputs": [
    {
     "name": "stdout",
     "output_type": "stream",
     "text": [
      "     Order ID            SKU  Order Qty  Weight (g)  Customer Pincode  \\\n",
      "0  2001827036  8904223818706        1.0         127            173213   \n",
      "1  2001827036  8904223819093        1.0         150            173213   \n",
      "2  2001827036  8904223819109        1.0         100            173213   \n",
      "3  2001827036  8904223818430        1.0         165            173213   \n",
      "4  2001827036  8904223819277        1.0         350            173213   \n",
      "\n",
      "  Type of Shipment  Warehouse Pincode Delivery Zone As Per ABC  Weights (Kgs)  \\\n",
      "0  Forward charges             121003                        e          0.127   \n",
      "1  Forward charges             121003                        e          0.150   \n",
      "2  Forward charges             121003                        e          0.100   \n",
      "3  Forward charges             121003                        e          0.165   \n",
      "4  Forward charges             121003                        e          0.350   \n",
      "\n",
      "   Weight Slab As Per ABC  Expected Charge as per ABC  \n",
      "0                     0.5                        56.6  \n",
      "1                     0.5                        56.6  \n",
      "2                     0.5                        56.6  \n",
      "3                     0.5                        56.6  \n",
      "4                     0.5                        56.6  \n"
     ]
    }
   ],
   "source": [
    "# Calculating the expected charges\n",
    "total_expected_charge = []\n",
    "for _, row in merged2.iterrows():\n",
    "    fwd_category = 'fwd_' + row['Delivery Zone As Per ABC']\n",
    "    fwd_fixed = Rates.at[0, fwd_category + '_fixed']\n",
    "    fwd_additional = Rates.at[0, fwd_category + '_additional']\n",
    "    rto_category = 'rto_' + row['Delivery Zone As Per ABC']\n",
    "    rto_fixed = Rates.at[0, rto_category + '_fixed']\n",
    "    rto_additional = Rates.at[0, rto_category + '_additional']\n",
    "\n",
    "    weight_slab = row['Weight Slab As Per ABC']\n",
    "\n",
    "    if row['Type of Shipment'] == 'Forward charges':\n",
    "        additional_weight = max(0, (weight_slab - 0.5) / 0.5)\n",
    "        total_expected_charge.append(fwd_fixed + additional_weight * fwd_additional)\n",
    "    elif row['Type of Shipment'] == 'Forward and RTO charges':\n",
    "        additional_weight = max(0, (weight_slab - 0.5) / 0.5)\n",
    "        total_expected_charge.append(fwd_fixed + additional_weight * (fwd_additional + rto_additional))\n",
    "    else:\n",
    "        total_expected_charge.append(0)\n",
    "\n",
    "merged2['Expected Charge as per ABC'] = total_expected_charge\n",
    "print(merged2.head())"
   ]
  },
  {
   "cell_type": "code",
   "execution_count": 46,
   "metadata": {},
   "outputs": [
    {
     "name": "stdout",
     "output_type": "stream",
     "text": [
      "     Order ID            SKU  Order Qty  Weight (g)  Customer Pincode_x  \\\n",
      "0  2001827036  8904223818706        1.0         127              173213   \n",
      "1  2001827036  8904223819093        1.0         150              173213   \n",
      "2  2001827036  8904223819109        1.0         100              173213   \n",
      "3  2001827036  8904223818430        1.0         165              173213   \n",
      "4  2001827036  8904223819277        1.0         350              173213   \n",
      "\n",
      "  Type of Shipment_x  Warehouse Pincode_x Delivery Zone As Per ABC  \\\n",
      "0    Forward charges               121003                        e   \n",
      "1    Forward charges               121003                        e   \n",
      "2    Forward charges               121003                        e   \n",
      "3    Forward charges               121003                        e   \n",
      "4    Forward charges               121003                        e   \n",
      "\n",
      "   Weights (Kgs)  Weight Slab As Per ABC  Expected Charge as per ABC  \\\n",
      "0          0.127                     0.5                        56.6   \n",
      "1          0.150                     0.5                        56.6   \n",
      "2          0.100                     0.5                        56.6   \n",
      "3          0.165                     0.5                        56.6   \n",
      "4          0.350                     0.5                        56.6   \n",
      "\n",
      "        AWB Code  Charged Weight  Warehouse Pincode_y  Customer Pincode_y  \\\n",
      "0  1091122418320             1.6               121003              173213   \n",
      "1  1091122418320             1.6               121003              173213   \n",
      "2  1091122418320             1.6               121003              173213   \n",
      "3  1091122418320             1.6               121003              173213   \n",
      "4  1091122418320             1.6               121003              173213   \n",
      "\n",
      "  Delivery Zone Charged by Courier Company Type of Shipment_y  \\\n",
      "0                                        b    Forward charges   \n",
      "1                                        b    Forward charges   \n",
      "2                                        b    Forward charges   \n",
      "3                                        b    Forward charges   \n",
      "4                                        b    Forward charges   \n",
      "\n",
      "   Billing Amount (Rs.)  Weight Slab Charged by Courier Company  \n",
      "0                 117.9                                     2.0  \n",
      "1                 117.9                                     2.0  \n",
      "2                 117.9                                     2.0  \n",
      "3                 117.9                                     2.0  \n",
      "4                 117.9                                     2.0  \n"
     ]
    }
   ],
   "source": [
    "# merging it with the courier invoice to display the final dataframe\n",
    "merged_output = merged2.merge(Invoice, on='Order ID')\n",
    "print(merged_output.head())"
   ]
  },
  {
   "cell_type": "code",
   "execution_count": 47,
   "metadata": {},
   "outputs": [
    {
     "name": "stdout",
     "output_type": "stream",
     "text": [
      "     Order ID  Difference (Rs.)  Expected Charge as per ABC\n",
      "0  2001827036              61.3                        56.6\n",
      "1  2001827036              61.3                        56.6\n",
      "2  2001827036              61.3                        56.6\n",
      "3  2001827036              61.3                        56.6\n",
      "4  2001827036              61.3                        56.6\n"
     ]
    }
   ],
   "source": [
    "# Difference in charges\n",
    "df_diff = merged_output\n",
    "df_diff['Difference (Rs.)'] = df_diff['Billing Amount (Rs.)'] - df_diff['Expected Charge as per ABC']\n",
    "\n",
    "df_new = df_diff[['Order ID', 'Difference (Rs.)', 'Expected Charge as per ABC']]\n",
    "\n",
    "print(df_new.head())"
   ]
  },
  {
   "cell_type": "code",
   "execution_count": 48,
   "metadata": {},
   "outputs": [
    {
     "name": "stdout",
     "output_type": "stream",
     "text": [
      "                                         Description  Count  Amount (Rs.)\n",
      "0  Total Orders where ABC has been correctly charged     12         507.6\n",
      "1        Total Orders where ABC has been overcharged    382       33750.5\n",
      "2       Total Orders where ABC has been undercharged      7        -165.2\n"
     ]
    }
   ],
   "source": [
    "# Summarizing the accuracy of B2B courier charges based on the charged prices and expected prices\n",
    "# Calculate the total orders in each category\n",
    "total_correctly_charged = len(df_new[df_new['Difference (Rs.)'] == 0])\n",
    "total_overcharged = len(df_new[df_new['Difference (Rs.)'] > 0])\n",
    "total_undercharged = len(df_new[df_new['Difference (Rs.)'] < 0])\n",
    "\n",
    "# Calculate the total amount in each category\n",
    "amount_overcharged = abs(df_new[df_new['Difference (Rs.)'] > 0]['Difference (Rs.)'].sum())\n",
    "amount_undercharged = df_new[df_new['Difference (Rs.)'] < 0]['Difference (Rs.)'].sum()\n",
    "amount_correctly_charged = df_new[df_new['Difference (Rs.)'] == 0]['Expected Charge as per ABC'].sum()\n",
    "\n",
    "# Create a new DataFrame for the summary\n",
    "summary_data = {'Description': ['Total Orders where ABC has been correctly charged',\n",
    "                                'Total Orders where ABC has been overcharged',\n",
    "                                'Total Orders where ABC has been undercharged'],\n",
    "                'Count': [total_correctly_charged, total_overcharged, total_undercharged],\n",
    "                'Amount (Rs.)': [amount_correctly_charged, amount_overcharged, amount_undercharged]}\n",
    "\n",
    "df_summary = pd.DataFrame(summary_data)\n",
    "\n",
    "print(df_summary)"
   ]
  },
  {
   "cell_type": "code",
   "execution_count": 56,
   "metadata": {},
   "outputs": [
    {
     "data": {
      "image/png": "[encoded data removed]",
      "text/plain": [
       "<Figure size 640x480 with 1 Axes>"
      ]
     },
     "metadata": {},
     "output_type": "display_data"
    }
   ],
   "source": [
    "# Creating doughnut plot of the proportion\n",
    "plt.style.use('ggplot')\n",
    "plt.title('Proportion')\n",
    "plt.pie(x=df_summary['Count'],labels=df_summary['Description'],autopct='%.2f%%', startangle=140)\n",
    "plt.axis('equal')\n",
    "circle=plt.Circle(xy=(0,0),radius=0.45,facecolor='white')\n",
    "plt.gca().add_artist(circle)\n",
    "plt.show()"
   ]
  },
  {
   "cell_type": "code",
   "execution_count": null,
   "metadata": {},
   "outputs": [],
   "source": []
  }
 ],
 "metadata": {
  "kernelspec": {
   "display_name": "epsilon",
   "language": "python",
   "name": "python3"
  },
  "language_info": {
   "codemirror_mode": {
    "name": "ipython",
    "version": 3
   },
   "file_extension": ".py",
   "mimetype": "text/x-python",
   "name": "python",
   "nbconvert_exporter": "python",
   "pygments_lexer": "ipython3",
   "version": "3.9.0"
  }
 },
 "nbformat": 4,
 "nbformat_minor": 2
}
